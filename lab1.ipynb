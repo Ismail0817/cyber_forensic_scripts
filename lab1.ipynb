{
 "cells": [
  {
   "cell_type": "code",
   "execution_count": 6,
   "metadata": {},
   "outputs": [
    {
     "name": "stdout",
     "output_type": "stream",
     "text": [
      "[2023-04-14T09:42:37.222000+00:00] cyfo_user: Hello, everyone!\n",
      "[2023-04-14T09:42:55.189000+00:00] cyfo_user: Cocomelon is a fun show\n",
      "[2023-04-14T09:42:55.189000+00:00] cyfo_user: Cocomelon is a fun show\n"
     ]
    }
   ],
   "source": [
    "import json\n",
    "\n",
    "# Define a list to store all the chat messages\n",
    "chat = []\n",
    "\n",
    "# Open the text file containing the chat data\n",
    "with open('chats.txt', 'r') as file:\n",
    "\n",
    "    # Iterate through each line in the file\n",
    "    for line in file:\n",
    "        \n",
    "        # Convert the line from a string to a dictionary\n",
    "        message_dict = json.loads(line)\n",
    "        \n",
    "        # Extract the message content from the dictionary\n",
    "        message_content = message_dict['message']['content']\n",
    "        \n",
    "        # Extract the author name from the dictionary\n",
    "        author_name = message_dict['message']['author']['username']\n",
    "        \n",
    "        # Extract the timestamp from the dictionary\n",
    "        timestamp = message_dict['message']['timestamp']\n",
    "        \n",
    "        # Create a formatted string containing the author name, timestamp, and message content\n",
    "        formatted_message = f'[{timestamp}] {author_name}: {message_content}'\n",
    "        \n",
    "        # Append the formatted message to the chat list\n",
    "        chat.append(formatted_message)\n",
    "\n",
    "# Print out the reconstructed chat\n",
    "for message in chat:\n",
    "    print(message)\n"
   ]
  }
 ],
 "metadata": {
  "kernelspec": {
   "display_name": "Python 3.10.7 64-bit",
   "language": "python",
   "name": "python3"
  },
  "language_info": {
   "codemirror_mode": {
    "name": "ipython",
    "version": 3
   },
   "file_extension": ".py",
   "mimetype": "text/x-python",
   "name": "python",
   "nbconvert_exporter": "python",
   "pygments_lexer": "ipython3",
   "version": "3.10.7"
  },
  "orig_nbformat": 4,
  "vscode": {
   "interpreter": {
    "hash": "aee8b7b246df8f9039afb4144a1f6fd8d2ca17a180786b69acc140d282b71a49"
   }
  }
 },
 "nbformat": 4,
 "nbformat_minor": 2
}
