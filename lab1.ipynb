{
 "cells": [
  {
   "cell_type": "code",
   "execution_count": 16,
   "metadata": {},
   "outputs": [
    {
     "name": "stdout",
     "output_type": "stream",
     "text": [
      "[2023-04-14 09:42:37] cyfo_user: Hello, everyone!\n",
      "[2023-04-14 09:42:55] cyfo_user: Cocomelon is a fun show\n",
      "[2023-04-14 09:42:37] cyfo_user: Hello, everyone!\n",
      "[2023-04-14 09:42:55] cyfo_user: Cocomelon is a fun show\n",
      "[2023-04-14 10:00:42] group14: \n",
      "[2023-04-14 09:42:12] cyfo_user: \n",
      "[2023-04-14 09:42:22] cyfo_user: \n",
      "[2023-04-13 11:49:42] gustav: \n",
      "[2023-04-13 11:36:25] Iri9: \n",
      "[2023-04-13 11:37:31] Iri9: Pohela Boishakh\n",
      "[2023-04-13 11:35:12] Iri9: \n",
      "[2023-04-13 11:36:19] Iri9: \n",
      "[2023-04-12 13:59:14] CYFO: \n",
      "[2023-04-12 14:00:19] CYFO: Spring is here!!!\n",
      "[2023-03-26 10:35:29] catlover420: \n",
      "[2023-04-12 13:12:15] sailingnn: \n",
      "[2023-03-26 10:34:57] catlover420: \n",
      "[2023-03-26 10:35:14] catlover420: Meow\n",
      "[2023-03-23 11:46:36] mjerk: Whuu\n",
      "[2023-03-23 11:46:36] mjerk: Whuu\n"
     ]
    }
   ],
   "source": [
    "import json\n",
    "from datetime import datetime\n",
    "\n",
    "# Define a list to store all the chat messages\n",
    "chat = []\n",
    "\n",
    "# Open the text file containing the chat data\n",
    "with open('chat.txt', 'r') as file:\n",
    "\n",
    "    # Iterate through each line in the file\n",
    "    for line in file:\n",
    "\n",
    "        #check for json lines\n",
    "        if line.strip() and line[0] == '{' and line[-2] == '}':\n",
    "            # print(line)\n",
    "            # Convert the line from a string to a dictionary\n",
    "            message_dict = json.loads(line)\n",
    "            \n",
    "            # Extract the message content from the dictionary\n",
    "            message_content = message_dict['message']['content']\n",
    "            \n",
    "            # Extract the author name from the dictionary\n",
    "            author_name = message_dict['message']['author']['username']\n",
    "            \n",
    "            # Extract the timestamp from the dictionary\n",
    "            timestamp = message_dict['message']['timestamp']\n",
    "\n",
    "            # time_str = '2023-04-14T09:42:37.222000+00:00'\n",
    "            dt_obj = datetime.fromisoformat(timestamp)\n",
    "\n",
    "            \n",
    "            # Create a formatted string containing the author name, timestamp, and message content\n",
    "            formatted_message = f'[{dt_obj.strftime(\"%Y-%m-%d %H:%M:%S\")}] {author_name}: {message_content}'\n",
    "            \n",
    "            # Append the formatted message to the chat list\n",
    "            chat.append(formatted_message)\n",
    "\n",
    "# Print out the reconstructed chat\n",
    "for message in chat:\n",
    "    print(message)\n"
   ]
  },
  {
   "cell_type": "code",
   "execution_count": 15,
   "metadata": {},
   "outputs": [
    {
     "name": "stdout",
     "output_type": "stream",
     "text": [
      "2023-04-14 09:42:37\n"
     ]
    }
   ],
   "source": [
    "from datetime import datetime\n",
    "\n",
    "time_str = '2023-04-14T09:42:37.222000+00:00'\n",
    "dt_obj = datetime.fromisoformat(time_str)\n",
    "\n",
    "print(dt_obj.strftime(\"%Y-%m-%d %H:%M:%S\"))\n"
   ]
  },
  {
   "cell_type": "code",
   "execution_count": 9,
   "metadata": {},
   "outputs": [
    {
     "name": "stdout",
     "output_type": "stream",
     "text": [
      "{\"id\":\"1096369914656329728\",\"channelId\":\"1088428364223754353\",\"message\":{\"id\":\"1096369914656329728\",\"type\":0,\"content\":\"Hello, everyone!\",\"channel_id\":\"1088428364223754353\",\"author\":{\"id\":\"1093898226815479978\",\"username\":\"cyfo_user\",\"global_name\":null,\"display_name\":null,\"avatar\":null,\"discriminator\":\"2013\",\"publicFlags\":0,\"avatarDecoration\":null},\"attachments\":[],\"embeds\":[],\"mentions\":[],\"mention_roles\":[],\"pinned\":false,\"mention_everyone\":false,\"tts\":false,\"timestamp\":\"2023-04-14T09:42:37.222000+00:00\",\"edited_timestamp\":null,\"flags\":0,\"components\":[]},\"members\":[{\"userId\":\"1093898226815479978\",\"nick\":null,\"guildId\":\"1088428364223754350\",\"avatar\":null,\"roles\":[],\"premiumSince\":null,\"isPending\":false,\"joinedAt\":\"2023-04-14T09:42:11.998185+00:00\",\"communicationDisabledUntil\":null,\"flags\":0}],\"users\":[{\"id\":\"1093898226815479978\",\"username\":\"cyfo_user\",\"discriminator\":\"2013\",\"avatar\":null,\"avatarDecoration\":null,\"email\":null,\"verified\":false,\"bot\":false,\"system\":false,\"mfaEnabled\":false,\"mobile\":false,\"desktop\":false,\"flags\":0,\"publicFlags\":0,\"purchasedFlags\":0,\"premiumUsageFlags\":0,\"phone\":null,\"guildMemberAvatars\":{},\"hasBouncedEmail\":false,\"personalConnectionId\":null}],\"connectionId\":1681466342451}\n",
      "\n",
      "{\"id\":\"1096369990015402044\",\"channelId\":\"1088428364223754353\",\"message\":{\"id\":\"1096369990015402044\",\"type\":0,\"content\":\"Cocomelon is a fun show\",\"channel_id\":\"1088428364223754353\",\"author\":{\"id\":\"1093898226815479978\",\"username\":\"cyfo_user\",\"global_name\":null,\"display_name\":null,\"avatar\":null,\"discriminator\":\"2013\",\"publicFlags\":0,\"avatarDecoration\":null},\"attachments\":[],\"embeds\":[],\"mentions\":[],\"mention_roles\":[],\"pinned\":false,\"mention_everyone\":false,\"tts\":false,\"timestamp\":\"2023-04-14T09:42:55.189000+00:00\",\"edited_timestamp\":null,\"flags\":0,\"components\":[]},\"members\":[{\"userId\":\"1093898226815479978\",\"nick\":null,\"guildId\":\"1088428364223754350\",\"avatar\":null,\"roles\":[],\"premiumSince\":null,\"isPending\":false,\"joinedAt\":\"2023-04-14T09:42:11.998185+00:00\",\"communicationDisabledUntil\":null,\"flags\":0}],\"users\":[{\"id\":\"1093898226815479978\",\"username\":\"cyfo_user\",\"discriminator\":\"2013\",\"avatar\":null,\"avatarDecoration\":null,\"email\":null,\"verified\":false,\"bot\":false,\"system\":false,\"mfaEnabled\":false,\"mobile\":false,\"desktop\":false,\"flags\":0,\"publicFlags\":0,\"purchasedFlags\":0,\"premiumUsageFlags\":0,\"phone\":null,\"guildMemberAvatars\":{},\"hasBouncedEmail\":false,\"personalConnectionId\":null}],\"connectionId\":1681466342451}\n",
      "\n",
      "{\"id\":\"1096369914656329728\",\"channelId\":\"1088428364223754353\",\"message\":{\"id\":\"1096369914656329728\",\"type\":0,\"content\":\"Hello, everyone!\",\"channel_id\":\"1088428364223754353\",\"author\":{\"id\":\"1093898226815479978\",\"username\":\"cyfo_user\",\"global_name\":null,\"display_name\":null,\"avatar\":null,\"discriminator\":\"2013\",\"publicFlags\":0,\"avatarDecoration\":null},\"attachments\":[],\"embeds\":[],\"mentions\":[],\"mention_roles\":[],\"pinned\":false,\"mention_everyone\":false,\"tts\":false,\"timestamp\":\"2023-04-14T09:42:37.222000+00:00\",\"edited_timestamp\":null,\"flags\":0,\"components\":[]},\"members\":[{\"userId\":\"1093898226815479978\",\"nick\":null,\"guildId\":\"1088428364223754350\",\"avatar\":null,\"roles\":[],\"premiumSince\":null,\"isPending\":false,\"joinedAt\":\"2023-04-14T09:42:11.998185+00:00\",\"communicationDisabledUntil\":null,\"flags\":0}],\"users\":[{\"id\":\"1093898226815479978\",\"username\":\"cyfo_user\",\"discriminator\":\"2013\",\"avatar\":null,\"avatarDecoration\":null,\"email\":null,\"verified\":false,\"bot\":false,\"system\":false,\"mfaEnabled\":false,\"mobile\":false,\"desktop\":false,\"flags\":0,\"publicFlags\":0,\"purchasedFlags\":0,\"premiumUsageFlags\":0,\"phone\":null,\"guildMemberAvatars\":{},\"hasBouncedEmail\":false,\"personalConnectionId\":null}],\"connectionId\":1681466342451}\n",
      "\n",
      "{\"id\":\"1096369990015402044\",\"channelId\":\"1088428364223754353\",\"message\":{\"id\":\"1096369990015402044\",\"type\":0,\"content\":\"Cocomelon is a fun show\",\"channel_id\":\"1088428364223754353\",\"author\":{\"id\":\"1093898226815479978\",\"username\":\"cyfo_user\",\"global_name\":null,\"display_name\":null,\"avatar\":null,\"discriminator\":\"2013\",\"publicFlags\":0,\"avatarDecoration\":null},\"attachments\":[],\"embeds\":[],\"mentions\":[],\"mention_roles\":[],\"pinned\":false,\"mention_everyone\":false,\"tts\":false,\"timestamp\":\"2023-04-14T09:42:55.189000+00:00\",\"edited_timestamp\":null,\"flags\":0,\"components\":[]},\"members\":[{\"userId\":\"1093898226815479978\",\"nick\":null,\"guildId\":\"1088428364223754350\",\"avatar\":null,\"roles\":[],\"premiumSince\":null,\"isPending\":false,\"joinedAt\":\"2023-04-14T09:42:11.998185+00:00\",\"communicationDisabledUntil\":null,\"flags\":0}],\"users\":[{\"id\":\"1093898226815479978\",\"username\":\"cyfo_user\",\"discriminator\":\"2013\",\"avatar\":null,\"avatarDecoration\":null,\"email\":null,\"verified\":false,\"bot\":false,\"system\":false,\"mfaEnabled\":false,\"mobile\":false,\"desktop\":false,\"flags\":0,\"publicFlags\":0,\"purchasedFlags\":0,\"premiumUsageFlags\":0,\"phone\":null,\"guildMemberAvatars\":{},\"hasBouncedEmail\":false,\"personalConnectionId\":null}],\"connectionId\":1681466342451}\n",
      "\n",
      "{\"id\":\"1096374467342639216\",\"channelId\":\"1088428364223754353\",\"message\":{\"id\":\"1096374467342639216\",\"type\":7,\"content\":\"\",\"channel_id\":\"1088428364223754353\",\"author\":{\"id\":\"1096373271928242216\",\"username\":\"group14\",\"global_name\":null,\"display_name\":null,\"avatar\":\"5445ffd7ffb201a98393cbdf684ea4b1\",\"discriminator\":\"1209\",\"publicFlags\":0,\"avatarDecoration\":null},\"attachments\":[],\"embeds\":[],\"mentions\":[],\"mention_roles\":[],\"pinned\":false,\"mention_everyone\":false,\"tts\":false,\"timestamp\":\"2023-04-14T10:00:42.667000+00:00\",\"edited_timestamp\":null,\"flags\":0,\"components\":[]},\"members\":[{\"userId\":\"1096373271928242216\",\"nick\":null,\"guildId\":\"1088428364223754350\",\"avatar\":null,\"roles\":[],\"premiumSince\":null,\"isPending\":false,\"joinedAt\":\"2023-04-14T10:00:42.566299+00:00\",\"communicationDisabledUntil\":null,\"flags\":0}],\"users\":[{\"id\":\"1096373271928242216\",\"username\":\"group14\",\"discriminator\":\"1209\",\"avatar\":\"5445ffd7ffb201a98393cbdf684ea4b1\",\"avatarDecoration\":null,\"email\":\"cyfo1234@outlook.com\",\"verified\":false,\"bot\":false,\"system\":false,\"mfaEnabled\":false,\"mobile\":true,\"desktop\":false,\"premiumType\":null,\"flags\":0,\"publicFlags\":0,\"purchasedFlags\":0,\"premiumUsageFlags\":0,\"phone\":null,\"nsfwAllowed\":true,\"guildMemberAvatars\":{},\"hasBouncedEmail\":false,\"personalConnectionId\":null}],\"connectionId\":1681466342451}\n",
      "\n",
      "{\"id\":\"1096369809156997160\",\"channelId\":\"1088428364223754353\",\"message\":{\"id\":\"1096369809156997160\",\"type\":7,\"content\":\"\",\"channel_id\":\"1088428364223754353\",\"author\":{\"id\":\"1093898226815479978\",\"username\":\"cyfo_user\",\"global_name\":null,\"display_name\":null,\"avatar\":null,\"discriminator\":\"2013\",\"publicFlags\":0,\"avatarDecoration\":null},\"attachments\":[],\"embeds\":[],\"mentions\":[],\"mention_roles\":[],\"pinned\":false,\"mention_everyone\":false,\"tts\":false,\"timestamp\":\"2023-04-14T09:42:12.069000+00:00\",\"edited_timestamp\":null,\"flags\":0,\"components\":[]},\"members\":[{\"userId\":\"1093898226815479978\",\"nick\":null,\"guildId\":\"1088428364223754350\",\"avatar\":null,\"roles\":[],\"premiumSince\":null,\"isPending\":false,\"joinedAt\":\"2023-04-14T09:42:11.998185+00:00\",\"communicationDisabledUntil\":null,\"flags\":0}],\"users\":[{\"id\":\"1093898226815479978\",\"username\":\"cyfo_user\",\"discriminator\":\"2013\",\"avatar\":null,\"avatarDecoration\":null,\"email\":null,\"verified\":false,\"bot\":false,\"system\":false,\"mfaEnabled\":false,\"mobile\":false,\"desktop\":false,\"flags\":0,\"publicFlags\":0,\"purchasedFlags\":0,\"premiumUsageFlags\":0,\"phone\":null,\"guildMemberAvatars\":{},\"hasBouncedEmail\":false,\"personalConnectionId\":null}],\"connectionId\":1681466342451}\n",
      "\n",
      "{\"id\":\"1096369850919682068\",\"channelId\":\"1088428364223754353\",\"message\":{\"id\":\"1096369850919682068\",\"type\":19,\"content\":\"\",\"channel_id\":\"1088428364223754353\",\"author\":{\"id\":\"1093898226815479978\",\"username\":\"cyfo_user\",\"global_name\":null,\"display_name\":null,\"avatar\":null,\"discriminator\":\"2013\",\"publicFlags\":0,\"avatarDecoration\":null},\"attachments\":[],\"embeds\":[],\"mentions\":[{\"id\":\"1093898226815479978\",\"username\":\"cyfo_user\",\"global_name\":null,\"display_name\":null,\"avatar\":null,\"discriminator\":\"2013\",\"publicFlags\":0,\"avatarDecoration\":null}],\"mention_roles\":[],\"pinned\":false,\"mention_everyone\":false,\"tts\":false,\"timestamp\":\"2023-04-14T09:42:22.026000+00:00\",\"edited_timestamp\":null,\"flags\":0,\"components\":[],\"message_reference\":{\"channel_id\":\"1088428364223754353\",\"guild_id\":\"1088428364223754350\",\"message_id\":\"1096369809156997160\"},\"referenced_message\":{\"id\":\"1096369809156997160\",\"type\":7,\"content\":\"\",\"channel_id\":\"1088428364223754353\",\"author\":{\"id\":\"1093898226815479978\",\"username\":\"cyfo_user\",\"global_name\":null,\"display_name\":null,\"avatar\":null,\"discriminator\":\"2013\",\"public_flags\":0,\"avatar_decoration\":null},\"attachments\":[],\"embeds\":[],\"mentions\":[],\"mention_roles\":[],\"pinned\":false,\"mention_everyone\":false,\"tts\":false,\"timestamp\":\"2023-04-14T09:42:12.069000+00:00\",\"edited_timestamp\":null,\"flags\":0,\"components\":[]},\"sticker_items\":[{\"id\":\"816087792291282944\",\"format_type\":3,\"name\":\"Sup\"}]},\"members\":[{\"userId\":\"1093898226815479978\",\"nick\":null,\"guildId\":\"1088428364223754350\",\"avatar\":null,\"roles\":[],\"premiumSince\":null,\"isPending\":false,\"joinedAt\":\"2023-04-14T09:42:11.998185+00:00\",\"communicationDisabledUntil\":null,\"flags\":0}],\"users\":[{\"id\":\"1093898226815479978\",\"username\":\"cyfo_user\",\"discriminator\":\"2013\",\"avatar\":null,\"avatarDecoration\":null,\"email\":null,\"verified\":false,\"bot\":false,\"system\":false,\"mfaEnabled\":false,\"mobile\":false,\"desktop\":false,\"flags\":0,\"publicFlags\":0,\"purchasedFlags\":0,\"premiumUsageFlags\":0,\"phone\":null,\"guildMemberAvatars\":{},\"hasBouncedEmail\":false,\"personalConnectionId\":null}],\"connectionId\":1681466342451}\n",
      "\n",
      "{\"id\":\"1096039509927403550\",\"channelId\":\"1088428364223754353\",\"message\":{\"id\":\"1096039509927403550\",\"type\":7,\"content\":\"\",\"channel_id\":\"1088428364223754353\",\"author\":{\"id\":\"1096038443844378745\",\"username\":\"gustav\",\"global_name\":null,\"display_name\":null,\"avatar\":\"f7f2e9361e8a54ce6e72580ac7b967af\",\"discriminator\":\"6375\",\"publicFlags\":0,\"avatarDecoration\":null},\"attachments\":[],\"embeds\":[],\"mentions\":[],\"mention_roles\":[],\"pinned\":false,\"mention_everyone\":false,\"tts\":false,\"timestamp\":\"2023-04-13T11:49:42.596000+00:00\",\"edited_timestamp\":null,\"flags\":0,\"components\":[]},\"members\":[{\"userId\":\"1096038443844378745\",\"nick\":null,\"guildId\":\"1088428364223754350\",\"avatar\":null,\"roles\":[],\"premiumSince\":null,\"isPending\":false,\"joinedAt\":\"2023-04-13T11:49:42.440000+00:00\",\"communicationDisabledUntil\":null,\"flags\":0}],\"users\":[{\"id\":\"1096038443844378745\",\"username\":\"gustav\",\"discriminator\":\"6375\",\"avatar\":\"f7f2e9361e8a54ce6e72580ac7b967af\",\"avatarDecoration\":null,\"email\":null,\"verified\":false,\"bot\":false,\"system\":false,\"mfaEnabled\":false,\"mobile\":false,\"desktop\":false,\"flags\":0,\"publicFlags\":0,\"purchasedFlags\":0,\"premiumUsageFlags\":0,\"phone\":null,\"guildMemberAvatars\":{},\"hasBouncedEmail\":false,\"personalConnectionId\":null}],\"connectionId\":1681466342451}\n",
      "\n",
      "{\"id\":\"1096036164764446721\",\"channelId\":\"1088428364223754353\",\"message\":{\"id\":\"1096036164764446721\",\"type\":19,\"content\":\"\",\"channel_id\":\"1088428364223754353\",\"author\":{\"id\":\"1096034579762126889\",\"username\":\"Iri9\",\"global_name\":null,\"display_name\":null,\"avatar\":null,\"discriminator\":\"1576\",\"publicFlags\":0,\"avatarDecoration\":null},\"attachments\":[],\"embeds\":[],\"mentions\":[{\"id\":\"1096034579762126889\",\"username\":\"Iri9\",\"global_name\":null,\"display_name\":null,\"avatar\":null,\"discriminator\":\"1576\",\"publicFlags\":0,\"avatarDecoration\":null}],\"mention_roles\":[],\"pinned\":false,\"mention_everyone\":false,\"tts\":false,\"timestamp\":\"2023-04-13T11:36:25.047000+00:00\",\"edited_timestamp\":null,\"flags\":0,\"components\":[],\"message_reference\":{\"channel_id\":\"1088428364223754353\",\"guild_id\":\"1088428364223754350\",\"message_id\":\"1096035859947597854\"},\"referenced_message\":{\"id\":\"1096035859947597854\",\"type\":7,\"content\":\"\",\"channel_id\":\"1088428364223754353\",\"author\":{\"id\":\"1096034579762126889\",\"username\":\"Iri9\",\"global_name\":null,\"display_name\":null,\"avatar\":null,\"discriminator\":\"1576\",\"public_flags\":0,\"avatar_decoration\":null},\"attachments\":[],\"embeds\":[],\"mentions\":[],\"mention_roles\":[],\"pinned\":false,\"mention_everyone\":false,\"tts\":false,\"timestamp\":\"2023-04-13T11:35:12.373000+00:00\",\"edited_timestamp\":null,\"flags\":0,\"components\":[]},\"sticker_items\":[{\"id\":\"754108890559283200\",\"format_type\":3,\"name\":\"Wave\"}]},\"members\":[{\"userId\":\"1096034579762126889\",\"nick\":null,\"guildId\":\"1088428364223754350\",\"avatar\":null,\"roles\":[],\"premiumSince\":null,\"isPending\":false,\"joinedAt\":\"2023-04-13T11:35:12.312000+00:00\",\"communicationDisabledUntil\":null,\"flags\":0}],\"users\":[{\"id\":\"1096034579762126889\",\"username\":\"Iri9\",\"discriminator\":\"1576\",\"avatar\":null,\"avatarDecoration\":null,\"email\":null,\"verified\":false,\"bot\":false,\"system\":false,\"mfaEnabled\":false,\"mobile\":false,\"desktop\":false,\"flags\":0,\"publicFlags\":0,\"purchasedFlags\":0,\"premiumUsageFlags\":0,\"phone\":null,\"guildMemberAvatars\":{},\"hasBouncedEmail\":false,\"personalConnectionId\":null}],\"connectionId\":1681466342451}\n",
      "\n",
      "{\"id\":\"1096036442062458950\",\"channelId\":\"1088428364223754353\",\"message\":{\"id\":\"1096036442062458950\",\"type\":0,\"content\":\"Pohela Boishakh\",\"channel_id\":\"1088428364223754353\",\"author\":{\"id\":\"1096034579762126889\",\"username\":\"Iri9\",\"global_name\":null,\"display_name\":null,\"avatar\":null,\"discriminator\":\"1576\",\"publicFlags\":0,\"avatarDecoration\":null},\"attachments\":[],\"embeds\":[],\"mentions\":[],\"mention_roles\":[],\"pinned\":false,\"mention_everyone\":false,\"tts\":false,\"timestamp\":\"2023-04-13T11:37:31.160000+00:00\",\"edited_timestamp\":null,\"flags\":0,\"components\":[]},\"members\":[{\"userId\":\"1096034579762126889\",\"nick\":null,\"guildId\":\"1088428364223754350\",\"avatar\":null,\"roles\":[],\"premiumSince\":null,\"isPending\":false,\"joinedAt\":\"2023-04-13T11:35:12.312000+00:00\",\"communicationDisabledUntil\":null,\"flags\":0}],\"users\":[{\"id\":\"1096034579762126889\",\"username\":\"Iri9\",\"discriminator\":\"1576\",\"avatar\":null,\"avatarDecoration\":null,\"email\":null,\"verified\":false,\"bot\":false,\"system\":false,\"mfaEnabled\":false,\"mobile\":false,\"desktop\":false,\"flags\":0,\"publicFlags\":0,\"purchasedFlags\":0,\"premiumUsageFlags\":0,\"phone\":null,\"guildMemberAvatars\":{},\"hasBouncedEmail\":false,\"personalConnectionId\":null}],\"connectionId\":1681466342451}\n",
      "\n",
      "{\"id\":\"1096035859947597854\",\"channelId\":\"1088428364223754353\",\"message\":{\"id\":\"1096035859947597854\",\"type\":7,\"content\":\"\",\"channel_id\":\"1088428364223754353\",\"author\":{\"id\":\"1096034579762126889\",\"username\":\"Iri9\",\"global_name\":null,\"display_name\":null,\"avatar\":null,\"discriminator\":\"1576\",\"publicFlags\":0,\"avatarDecoration\":null},\"attachments\":[],\"embeds\":[],\"mentions\":[],\"mention_roles\":[],\"pinned\":false,\"mention_everyone\":false,\"tts\":false,\"timestamp\":\"2023-04-13T11:35:12.373000+00:00\",\"edited_timestamp\":null,\"flags\":0,\"components\":[]},\"members\":[{\"userId\":\"1096034579762126889\",\"nick\":null,\"guildId\":\"1088428364223754350\",\"avatar\":null,\"roles\":[],\"premiumSince\":null,\"isPending\":false,\"joinedAt\":\"2023-04-13T11:35:12.312000+00:00\",\"communicationDisabledUntil\":null,\"flags\":0}],\"users\":[{\"id\":\"1096034579762126889\",\"username\":\"Iri9\",\"discriminator\":\"1576\",\"avatar\":null,\"avatarDecoration\":null,\"email\":null,\"verified\":false,\"bot\":false,\"system\":false,\"mfaEnabled\":false,\"mobile\":false,\"desktop\":false,\"flags\":0,\"publicFlags\":0,\"purchasedFlags\":0,\"premiumUsageFlags\":0,\"phone\":null,\"guildMemberAvatars\":{},\"hasBouncedEmail\":false,\"personalConnectionId\":null}],\"connectionId\":1681466342451}\n",
      "\n",
      "{\"id\":\"1096036140005462087\",\"channelId\":\"1088428364223754353\",\"message\":{\"id\":\"1096036140005462087\",\"type\":19,\"content\":\"\",\"channel_id\":\"1088428364223754353\",\"author\":{\"id\":\"1096034579762126889\",\"username\":\"Iri9\",\"global_name\":null,\"display_name\":null,\"avatar\":null,\"discriminator\":\"1576\",\"publicFlags\":0,\"avatarDecoration\":null},\"attachments\":[],\"embeds\":[],\"mentions\":[{\"id\":\"932536998722424923\",\"username\":\"sailingnn\",\"global_name\":null,\"display_name\":null,\"avatar\":null,\"discriminator\":\"0192\",\"publicFlags\":0,\"avatarDecoration\":null}],\"mention_roles\":[],\"pinned\":false,\"mention_everyone\":false,\"tts\":false,\"timestamp\":\"2023-04-13T11:36:19.144000+00:00\",\"edited_timestamp\":null,\"flags\":0,\"components\":[],\"message_reference\":{\"channel_id\":\"1088428364223754353\",\"guild_id\":\"1088428364223754350\",\"message_id\":\"1095697895057018930\"},\"referenced_message\":{\"id\":\"1095697895057018930\",\"type\":7,\"content\":\"\",\"channel_id\":\"1088428364223754353\",\"author\":{\"id\":\"932536998722424923\",\"username\":\"sailingnn\",\"global_name\":null,\"display_name\":null,\"avatar\":null,\"discriminator\":\"0192\",\"public_flags\":0,\"avatar_decoration\":null},\"attachments\":[],\"embeds\":[],\"mentions\":[],\"mention_roles\":[],\"pinned\":false,\"mention_everyone\":false,\"tts\":false,\"timestamp\":\"2023-04-12T13:12:15.264000+00:00\",\"edited_timestamp\":null,\"flags\":0,\"components\":[]},\"sticker_items\":[{\"id\":\"751606379340365864\",\"format_type\":3,\"name\":\"Wave\"}]},\"members\":[{\"userId\":\"1096034579762126889\",\"nick\":null,\"guildId\":\"1088428364223754350\",\"avatar\":null,\"roles\":[],\"premiumSince\":null,\"isPending\":false,\"joinedAt\":\"2023-04-13T11:35:12.312000+00:00\",\"communicationDisabledUntil\":null,\"flags\":0},{\"userId\":\"932536998722424923\",\"nick\":null,\"guildId\":\"1088428364223754350\",\"avatar\":null,\"roles\":[],\"premiumSince\":null,\"isPending\":false,\"joinedAt\":\"2023-04-12T13:12:15.127000+00:00\",\"communicationDisabledUntil\":null,\"flags\":0}],\"users\":[{\"id\":\"1096034579762126889\",\"username\":\"Iri9\",\"discriminator\":\"1576\",\"avatar\":null,\"avatarDecoration\":null,\"email\":null,\"verified\":false,\"bot\":false,\"system\":false,\"mfaEnabled\":false,\"mobile\":false,\"desktop\":false,\"flags\":0,\"publicFlags\":0,\"purchasedFlags\":0,\"premiumUsageFlags\":0,\"phone\":null,\"guildMemberAvatars\":{},\"hasBouncedEmail\":false,\"personalConnectionId\":null},{\"id\":\"932536998722424923\",\"username\":\"sailingnn\",\"discriminator\":\"0192\",\"avatar\":null,\"avatarDecoration\":null,\"email\":null,\"verified\":false,\"bot\":false,\"system\":false,\"mfaEnabled\":false,\"mobile\":false,\"desktop\":false,\"flags\":0,\"publicFlags\":0,\"purchasedFlags\":0,\"premiumUsageFlags\":0,\"phone\":null,\"guildMemberAvatars\":{},\"hasBouncedEmail\":false,\"personalConnectionId\":null}],\"connectionId\":1681466342451}\n",
      "\n",
      "{\"id\":\"1095709719009693887\",\"channelId\":\"1088428364223754353\",\"message\":{\"id\":\"1095709719009693887\",\"type\":7,\"content\":\"\",\"channel_id\":\"1088428364223754353\",\"author\":{\"id\":\"1095708862474104892\",\"username\":\"CYFO\",\"global_name\":null,\"display_name\":null,\"avatar\":\"c82b3fa769ed6e6ffdea579381ed5f5c\",\"discriminator\":\"7003\",\"publicFlags\":0,\"avatarDecoration\":null},\"attachments\":[],\"embeds\":[],\"mentions\":[],\"mention_roles\":[],\"pinned\":false,\"mention_everyone\":false,\"tts\":false,\"timestamp\":\"2023-04-12T13:59:14.314000+00:00\",\"edited_timestamp\":null,\"flags\":0,\"components\":[]},\"members\":[{\"userId\":\"1095708862474104892\",\"nick\":null,\"guildId\":\"1088428364223754350\",\"avatar\":null,\"roles\":[],\"premiumSince\":null,\"isPending\":false,\"joinedAt\":\"2023-04-12T13:59:14.224000+00:00\",\"communicationDisabledUntil\":null,\"flags\":0}],\"users\":[{\"id\":\"1095708862474104892\",\"username\":\"CYFO\",\"discriminator\":\"7003\",\"avatar\":\"c82b3fa769ed6e6ffdea579381ed5f5c\",\"avatarDecoration\":null,\"email\":\"cyfotest@outlook.com\",\"verified\":false,\"bot\":false,\"system\":false,\"mfaEnabled\":false,\"mobile\":true,\"desktop\":false,\"premiumType\":null,\"flags\":0,\"publicFlags\":0,\"purchasedFlags\":0,\"premiumUsageFlags\":0,\"phone\":null,\"nsfwAllowed\":true,\"guildMemberAvatars\":{},\"hasBouncedEmail\":false,\"personalConnectionId\":null}],\"connectionId\":1681466342451}\n",
      "\n",
      "{\"id\":\"1095709992037920799\",\"channelId\":\"1088428364223754353\",\"message\":{\"id\":\"1095709992037920799\",\"type\":0,\"content\":\"Spring is here!!!\",\"channel_id\":\"1088428364223754353\",\"author\":{\"id\":\"1095708862474104892\",\"username\":\"CYFO\",\"global_name\":null,\"display_name\":null,\"avatar\":\"c82b3fa769ed6e6ffdea579381ed5f5c\",\"discriminator\":\"7003\",\"publicFlags\":0,\"avatarDecoration\":null},\"attachments\":[],\"embeds\":[],\"mentions\":[],\"mention_roles\":[],\"pinned\":false,\"mention_everyone\":false,\"tts\":false,\"timestamp\":\"2023-04-12T14:00:19.409000+00:00\",\"edited_timestamp\":null,\"flags\":0,\"components\":[]},\"members\":[{\"userId\":\"1095708862474104892\",\"nick\":null,\"guildId\":\"1088428364223754350\",\"avatar\":null,\"roles\":[],\"premiumSince\":null,\"isPending\":false,\"joinedAt\":\"2023-04-12T13:59:14.224000+00:00\",\"communicationDisabledUntil\":null,\"flags\":0}],\"users\":[{\"id\":\"1095708862474104892\",\"username\":\"CYFO\",\"discriminator\":\"7003\",\"avatar\":\"c82b3fa769ed6e6ffdea579381ed5f5c\",\"avatarDecoration\":null,\"email\":\"cyfotest@outlook.com\",\"verified\":false,\"bot\":false,\"system\":false,\"mfaEnabled\":false,\"mobile\":true,\"desktop\":false,\"premiumType\":null,\"flags\":0,\"publicFlags\":0,\"purchasedFlags\":0,\"premiumUsageFlags\":0,\"phone\":null,\"nsfwAllowed\":true,\"guildMemberAvatars\":{},\"hasBouncedEmail\":false,\"personalConnectionId\":null}],\"connectionId\":1681466342451}\n",
      "\n",
      "{\"id\":\"1089497848829198427\",\"channelId\":\"1088428364223754353\",\"message\":{\"id\":\"1089497848829198427\",\"type\":0,\"content\":\"\",\"channel_id\":\"1088428364223754353\",\"author\":{\"id\":\"1089496376662048788\",\"username\":\"catlover420\",\"global_name\":null,\"display_name\":null,\"avatar\":\"4576bbb68ea76da2cb8bc1dfaa977820\",\"discriminator\":\"8050\",\"publicFlags\":0,\"avatarDecoration\":null},\"attachments\":[{\"id\":\"1089497848611086357\",\"filename\":\"cat-toes-paw-number-paws-tiger-tabby.jpg\",\"size\":206855,\"url\":\"https://cdn.discordapp.com/attachments/1088428364223754353/1089497848611086357/cat-toes-paw-number-paws-tiger-tabby.jpg\",\"proxy_url\":\"https://media.discordapp.net/attachments/1088428364223754353/1089497848611086357/cat-toes-paw-number-paws-tiger-tabby.jpg\",\"width\":1071,\"height\":1600,\"content_type\":\"image/jpeg\"}],\"embeds\":[],\"mentions\":[],\"mention_roles\":[],\"pinned\":false,\"mention_everyone\":false,\"tts\":false,\"timestamp\":\"2023-03-26T10:35:29.052000+00:00\",\"edited_timestamp\":null,\"flags\":0,\"components\":[]},\"members\":[{\"userId\":\"1089496376662048788\",\"nick\":null,\"guildId\":\"1088428364223754350\",\"avatar\":null,\"roles\":[],\"premiumSince\":null,\"isPending\":false,\"joinedAt\":\"2023-03-26T10:34:57.659000+00:00\",\"communicationDisabledUntil\":null,\"flags\":0}],\"users\":[{\"id\":\"1089496376662048788\",\"username\":\"catlover420\",\"discriminator\":\"8050\",\"avatar\":\"4576bbb68ea76da2cb8bc1dfaa977820\",\"avatarDecoration\":null,\"email\":null,\"verified\":false,\"bot\":false,\"system\":false,\"mfaEnabled\":false,\"mobile\":false,\"desktop\":false,\"flags\":0,\"publicFlags\":0,\"purchasedFlags\":0,\"premiumUsageFlags\":0,\"phone\":null,\"guildMemberAvatars\":{},\"hasBouncedEmail\":false,\"personalConnectionId\":null}],\"connectionId\":1681466342451}\n",
      "\n",
      "{\"id\":\"1095697895057018930\",\"channelId\":\"1088428364223754353\",\"message\":{\"id\":\"1095697895057018930\",\"type\":7,\"content\":\"\",\"channel_id\":\"1088428364223754353\",\"author\":{\"id\":\"932536998722424923\",\"username\":\"sailingnn\",\"global_name\":null,\"display_name\":null,\"avatar\":null,\"discriminator\":\"0192\",\"publicFlags\":0,\"avatarDecoration\":null},\"attachments\":[],\"embeds\":[],\"mentions\":[],\"mention_roles\":[],\"pinned\":false,\"mention_everyone\":false,\"tts\":false,\"timestamp\":\"2023-04-12T13:12:15.264000+00:00\",\"edited_timestamp\":null,\"flags\":0,\"components\":[]},\"members\":[{\"userId\":\"932536998722424923\",\"nick\":null,\"guildId\":\"1088428364223754350\",\"avatar\":null,\"roles\":[],\"premiumSince\":null,\"isPending\":false,\"joinedAt\":\"2023-04-12T13:12:15.127000+00:00\",\"communicationDisabledUntil\":null,\"flags\":0}],\"users\":[{\"id\":\"932536998722424923\",\"username\":\"sailingnn\",\"discriminator\":\"0192\",\"avatar\":null,\"avatarDecoration\":null,\"email\":null,\"verified\":false,\"bot\":false,\"system\":false,\"mfaEnabled\":false,\"mobile\":false,\"desktop\":false,\"flags\":0,\"publicFlags\":0,\"purchasedFlags\":0,\"premiumUsageFlags\":0,\"phone\":null,\"guildMemberAvatars\":{},\"hasBouncedEmail\":false,\"personalConnectionId\":null}],\"connectionId\":1681466342451}\n",
      "\n",
      "{\"id\":\"1089497717396480000\",\"channelId\":\"1088428364223754353\",\"message\":{\"id\":\"1089497717396480000\",\"type\":7,\"content\":\"\",\"channel_id\":\"1088428364223754353\",\"author\":{\"id\":\"1089496376662048788\",\"username\":\"catlover420\",\"global_name\":null,\"display_name\":null,\"avatar\":\"4576bbb68ea76da2cb8bc1dfaa977820\",\"discriminator\":\"8050\",\"publicFlags\":0,\"avatarDecoration\":null},\"attachments\":[],\"embeds\":[],\"mentions\":[],\"mention_roles\":[],\"pinned\":false,\"mention_everyone\":false,\"tts\":false,\"timestamp\":\"2023-03-26T10:34:57.716000+00:00\",\"edited_timestamp\":null,\"flags\":0,\"components\":[]},\"members\":[{\"userId\":\"1089496376662048788\",\"nick\":null,\"guildId\":\"1088428364223754350\",\"avatar\":null,\"roles\":[],\"premiumSince\":null,\"isPending\":false,\"joinedAt\":\"2023-03-26T10:34:57.659000+00:00\",\"communicationDisabledUntil\":null,\"flags\":0}],\"users\":[{\"id\":\"1089496376662048788\",\"username\":\"catlover420\",\"discriminator\":\"8050\",\"avatar\":\"4576bbb68ea76da2cb8bc1dfaa977820\",\"avatarDecoration\":null,\"email\":null,\"verified\":false,\"bot\":false,\"system\":false,\"mfaEnabled\":false,\"mobile\":false,\"desktop\":false,\"flags\":0,\"publicFlags\":0,\"purchasedFlags\":0,\"premiumUsageFlags\":0,\"phone\":null,\"guildMemberAvatars\":{},\"hasBouncedEmail\":false,\"personalConnectionId\":null}],\"connectionId\":1681466342451}\n",
      "\n",
      "{\"id\":\"1089497786413748304\",\"channelId\":\"1088428364223754353\",\"message\":{\"id\":\"1089497786413748304\",\"type\":0,\"content\":\"Meow\",\"channel_id\":\"1088428364223754353\",\"author\":{\"id\":\"1089496376662048788\",\"username\":\"catlover420\",\"global_name\":null,\"display_name\":null,\"avatar\":\"4576bbb68ea76da2cb8bc1dfaa977820\",\"discriminator\":\"8050\",\"publicFlags\":0,\"avatarDecoration\":null},\"attachments\":[],\"embeds\":[],\"mentions\":[],\"mention_roles\":[],\"pinned\":false,\"mention_everyone\":false,\"tts\":false,\"timestamp\":\"2023-03-26T10:35:14.171000+00:00\",\"edited_timestamp\":null,\"flags\":0,\"components\":[]},\"members\":[{\"userId\":\"1089496376662048788\",\"nick\":null,\"guildId\":\"1088428364223754350\",\"avatar\":null,\"roles\":[],\"premiumSince\":null,\"isPending\":false,\"joinedAt\":\"2023-03-26T10:34:57.659000+00:00\",\"communicationDisabledUntil\":null,\"flags\":0}],\"users\":[{\"id\":\"1089496376662048788\",\"username\":\"catlover420\",\"discriminator\":\"8050\",\"avatar\":\"4576bbb68ea76da2cb8bc1dfaa977820\",\"avatarDecoration\":null,\"email\":null,\"verified\":false,\"bot\":false,\"system\":false,\"mfaEnabled\":false,\"mobile\":false,\"desktop\":false,\"flags\":0,\"publicFlags\":0,\"purchasedFlags\":0,\"premiumUsageFlags\":0,\"phone\":null,\"guildMemberAvatars\":{},\"hasBouncedEmail\":false,\"personalConnectionId\":null}],\"connectionId\":1681466342451}\n",
      "\n",
      "{\"id\":\"1088428583569076276\",\"channelId\":\"1088428364223754353\",\"message\":{\"id\":\"1088428583569076276\",\"type\":0,\"content\":\"Whuu\",\"channel_id\":\"1088428364223754353\",\"author\":{\"id\":\"1088426077405331456\",\"username\":\"mjerk\",\"global_name\":null,\"display_name\":null,\"avatar\":\"1628fc11e7961d85181295493426b775\",\"discriminator\":\"2609\",\"publicFlags\":0,\"avatarDecoration\":null},\"attachments\":[],\"embeds\":[],\"mentions\":[],\"mention_roles\":[],\"pinned\":false,\"mention_everyone\":false,\"tts\":false,\"timestamp\":\"2023-03-23T11:46:36.348000+00:00\",\"edited_timestamp\":null,\"flags\":0,\"components\":[]},\"members\":[{\"userId\":\"1088426077405331456\",\"nick\":null,\"guildId\":\"1088428364223754350\",\"avatar\":null,\"roles\":[],\"premiumSince\":null,\"isPending\":false,\"joinedAt\":\"2023-03-23T11:45:44.072000+00:00\",\"communicationDisabledUntil\":null,\"flags\":0}],\"users\":[{\"id\":\"1088426077405331456\",\"username\":\"mjerk\",\"discriminator\":\"2609\",\"avatar\":\"1628fc11e7961d85181295493426b775\",\"avatarDecoration\":null,\"email\":null,\"verified\":false,\"bot\":false,\"system\":false,\"mfaEnabled\":false,\"mobile\":false,\"desktop\":false,\"flags\":0,\"publicFlags\":0,\"purchasedFlags\":0,\"premiumUsageFlags\":0,\"phone\":null,\"guildMemberAvatars\":{},\"hasBouncedEmail\":false,\"personalConnectionId\":null}],\"connectionId\":1681466342451}\n",
      "\n",
      "{\"id\":\"1088428583569076276\",\"channelId\":\"1088428364223754353\",\"message\":{\"id\":\"1088428583569076276\",\"type\":0,\"content\":\"Whuu\",\"channel_id\":\"1088428364223754353\",\"author\":{\"id\":\"1088426077405331456\",\"username\":\"mjerk\",\"global_name\":null,\"display_name\":null,\"avatar\":\"1628fc11e7961d85181295493426b775\",\"discriminator\":\"2609\",\"publicFlags\":0,\"avatarDecoration\":null},\"attachments\":[],\"embeds\":[],\"mentions\":[],\"mention_roles\":[],\"pinned\":false,\"mention_everyone\":false,\"tts\":false,\"timestamp\":\"2023-03-23T11:46:36.348000+00:00\",\"edited_timestamp\":null,\"flags\":0,\"components\":[]},\"members\":[{\"userId\":\"1088426077405331456\",\"nick\":null,\"guildId\":\"1088428364223754350\",\"avatar\":null,\"roles\":[],\"premiumSince\":null,\"isPending\":false,\"joinedAt\":\"2023-03-23T11:45:44.072000+00:00\",\"communicationDisabledUntil\":null,\"flags\":0}],\"users\":[{\"id\":\"1088426077405331456\",\"username\":\"mjerk\",\"discriminator\":\"2609\",\"avatar\":\"1628fc11e7961d85181295493426b775\",\"avatarDecoration\":null,\"email\":null,\"verified\":false,\"bot\":false,\"system\":false,\"mfaEnabled\":false,\"mobile\":false,\"desktop\":false,\"flags\":0,\"publicFlags\":0,\"purchasedFlags\":0,\"premiumUsageFlags\":0,\"phone\":null,\"guildMemberAvatars\":{},\"hasBouncedEmail\":false,\"personalConnectionId\":null}],\"connectionId\":1681466342451}\n",
      "\n"
     ]
    }
   ],
   "source": [
    "with open('chat.txt', 'r') as f:\n",
    "    for line in f:\n",
    "        if line.strip() and line[0] == '{' and line[-2] == '}':\n",
    "            print(line)\n"
   ]
  }
 ],
 "metadata": {
  "kernelspec": {
   "display_name": "Python 3.10.7 64-bit",
   "language": "python",
   "name": "python3"
  },
  "language_info": {
   "codemirror_mode": {
    "name": "ipython",
    "version": 3
   },
   "file_extension": ".py",
   "mimetype": "text/x-python",
   "name": "python",
   "nbconvert_exporter": "python",
   "pygments_lexer": "ipython3",
   "version": "3.10.7"
  },
  "orig_nbformat": 4,
  "vscode": {
   "interpreter": {
    "hash": "aee8b7b246df8f9039afb4144a1f6fd8d2ca17a180786b69acc140d282b71a49"
   }
  }
 },
 "nbformat": 4,
 "nbformat_minor": 2
}
